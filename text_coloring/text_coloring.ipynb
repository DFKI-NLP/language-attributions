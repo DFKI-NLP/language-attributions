{
 "cells": [
  {
   "cell_type": "code",
   "execution_count": 1,
   "metadata": {},
   "outputs": [],
   "source": [
    "import pickle\n",
    "import numpy as np"
   ]
  },
  {
   "cell_type": "code",
   "execution_count": 2,
   "metadata": {},
   "outputs": [],
   "source": [
    "def analysis_to_scores(analysis_pickle_file):\n",
    "    analysis = pickle.load(open(analysis_pickle_file, \"rb\"))\n",
    "    analysis_text_sum = np.sum(analysis, axis=2)[:,:,0]\n",
    "    return analysis_text_sum/np.abs(analysis_text_sum).max()"
   ]
  },
  {
   "cell_type": "code",
   "execution_count": 3,
   "metadata": {},
   "outputs": [],
   "source": [
    "def text_to_latex(input_indices, vocab, scores):\n",
    "    output_text = ''\n",
    "    \n",
    "    for word_idx, score in zip(input_indices, scores):\n",
    "        if score > 0:\n",
    "            red = 255\n",
    "            green = 255*(1-score)\n",
    "            blue = 255*(1-score)\n",
    "            output_text += '\\colorbox[RGB]{' + str(int(red)) + ',' + str(int(green)) + ',' + str(int(blue)) + '}{\\strut ' + vocab[word_idx] + '}'\n",
    "        else:\n",
    "            red = 255*(1+score)\n",
    "            green = 255*(1+score)\n",
    "            blue = 255\n",
    "            output_text += '\\colorbox[RGB]{' + str(int(red)) + ',' + str(int(green)) + ',' + str(int(blue)) + '}{\\strut ' + vocab[word_idx] + '}'\n",
    "            \n",
    "    return output_text"
   ]
  },
  {
   "cell_type": "code",
   "execution_count": 4,
   "metadata": {},
   "outputs": [],
   "source": [
    "def corpus_to_latex_file(input_triple, corpus_idx, output_file=False, juprint=False):\n",
    "    if output_file: \n",
    "        with open(output_file, 'w') as the_file:\n",
    "            the_file.write(text_to_latex(input_triple[0][corpus_idx], input_triple[1], input_triple[2][corpus_idx]))\n",
    "    if juprint:\n",
    "        print(text_to_latex(input_triple[0][corpus_idx], input_triple[1], input_triple[2][corpus_idx]))\n",
    "    "
   ]
  },
  {
   "cell_type": "code",
   "execution_count": 5,
   "metadata": {},
   "outputs": [],
   "source": [
    "test_indices = np.array(pickle.load(open(\"../experiments/pickle/test_indices_and_sentiment.p\", \"rb\")))[:,0]\n",
    "encoder_vocab = pickle.load(open(\"../experiments/pickle/encoder_vocab.p\", \"rb\"))\n",
    "scores = analysis_to_scores(\"../experiments/pickle/analysis.p\")"
   ]
  },
  {
   "cell_type": "code",
   "execution_count": 6,
   "metadata": {},
   "outputs": [
    {
     "name": "stdout",
     "output_type": "stream",
     "text": [
      "\\colorbox[RGB]{255,255,255}{\\strut One}\\colorbox[RGB]{255,255,255}{\\strut of}\\colorbox[RGB]{255,255,255}{\\strut the}\\colorbox[RGB]{255,242,242}{\\strut best}\\colorbox[RGB]{255,250,250}{\\strut game}\\colorbox[RGB]{255,255,255}{\\strut music}\\colorbox[RGB]{255,255,255}{\\strut soundtracks}\\colorbox[RGB]{255,255,255}{\\strut -}\\colorbox[RGB]{255,255,255}{\\strut for}\\colorbox[RGB]{255,255,255}{\\strut a}\\colorbox[RGB]{255,255,255}{\\strut game}\\colorbox[RGB]{255,255,255}{\\strut I}\\colorbox[RGB]{255,240,240}{\\strut did}\\colorbox[RGB]{255,255,255}{\\strut n't}\\colorbox[RGB]{255,255,255}{\\strut really}\\colorbox[RGB]{255,255,255}{\\strut play}\\colorbox[RGB]{255,255,255}{\\strut :}\\colorbox[RGB]{255,254,254}{\\strut Despite}\\colorbox[RGB]{255,255,255}{\\strut the}\\colorbox[RGB]{255,255,255}{\\strut fact}\\colorbox[RGB]{255,255,255}{\\strut that}\\colorbox[RGB]{255,255,255}{\\strut I}\\colorbox[RGB]{255,255,255}{\\strut have}\\colorbox[RGB]{255,255,255}{\\strut only}\\colorbox[RGB]{255,254,254}{\\strut played}\\colorbox[RGB]{255,255,255}{\\strut a}\\colorbox[RGB]{255,255,255}{\\strut small}\\colorbox[RGB]{255,223,223}{\\strut portion}\\colorbox[RGB]{255,255,255}{\\strut of}\\colorbox[RGB]{255,255,255}{\\strut the}\\colorbox[RGB]{255,255,255}{\\strut game}\\colorbox[RGB]{255,255,255}{\\strut ,}\\colorbox[RGB]{255,255,255}{\\strut the}\\colorbox[RGB]{255,255,255}{\\strut music}\\colorbox[RGB]{255,255,255}{\\strut I}\\colorbox[RGB]{255,255,255}{\\strut heard}\\colorbox[RGB]{255,255,255}{\\strut (}\\colorbox[RGB]{255,255,255}{\\strut plus}\\colorbox[RGB]{255,255,255}{\\strut the}\\colorbox[RGB]{255,253,253}{\\strut connection}\\colorbox[RGB]{255,255,255}{\\strut to}\\colorbox[RGB]{255,221,221}{\\strut Chrono}\\colorbox[RGB]{255,237,237}{\\strut Trigger}\\colorbox[RGB]{255,255,255}{\\strut which}\\colorbox[RGB]{255,255,255}{\\strut was}\\colorbox[RGB]{255,218,218}{\\strut great}\\colorbox[RGB]{255,255,255}{\\strut as}\\colorbox[RGB]{255,255,255}{\\strut well}\\colorbox[RGB]{255,255,255}{\\strut )}\\colorbox[RGB]{255,251,251}{\\strut led}\\colorbox[RGB]{255,255,255}{\\strut me}\\colorbox[RGB]{255,255,255}{\\strut to}\\colorbox[RGB]{255,250,250}{\\strut purchase}\\colorbox[RGB]{255,255,255}{\\strut the}\\colorbox[RGB]{255,255,255}{\\strut soundtrack}\\colorbox[RGB]{255,255,255}{\\strut ,}\\colorbox[RGB]{255,255,255}{\\strut and}\\colorbox[RGB]{255,255,255}{\\strut it}\\colorbox[RGB]{255,255,255}{\\strut remains}\\colorbox[RGB]{255,255,255}{\\strut one}\\colorbox[RGB]{255,255,255}{\\strut of}\\colorbox[RGB]{255,255,255}{\\strut my}\\colorbox[RGB]{255,214,214}{\\strut favorite}\\colorbox[RGB]{255,248,248}{\\strut albums}\\colorbox[RGB]{255,255,255}{\\strut .}\\colorbox[RGB]{255,255,255}{\\strut There}\\colorbox[RGB]{255,255,255}{\\strut is}\\colorbox[RGB]{255,255,255}{\\strut an}\\colorbox[RGB]{255,246,246}{\\strut incredible}\\colorbox[RGB]{255,253,253}{\\strut mix}\\colorbox[RGB]{255,255,255}{\\strut of}\\colorbox[RGB]{255,255,255}{\\strut fun}\\colorbox[RGB]{255,255,255}{\\strut ,}\\colorbox[RGB]{255,232,232}{\\strut epic}\\colorbox[RGB]{255,255,255}{\\strut ,}\\colorbox[RGB]{255,255,255}{\\strut and}\\colorbox[RGB]{255,249,249}{\\strut emotional}\\colorbox[RGB]{255,255,255}{\\strut songs}\\colorbox[RGB]{255,255,255}{\\strut .}\\colorbox[RGB]{255,242,242}{\\strut Those}\\colorbox[RGB]{255,205,205}{\\strut sad}\\colorbox[RGB]{255,255,255}{\\strut and}\\colorbox[RGB]{255,219,219}{\\strut beautiful}\\colorbox[RGB]{255,241,241}{\\strut tracks}\\colorbox[RGB]{255,255,255}{\\strut I}\\colorbox[RGB]{255,255,255}{\\strut especially}\\colorbox[RGB]{255,255,255}{\\strut like}\\colorbox[RGB]{255,255,255}{\\strut ,}\\colorbox[RGB]{255,255,255}{\\strut as}\\colorbox[RGB]{255,255,255}{\\strut there}\\colorbox[RGB]{255,255,255}{\\strut 's}\\colorbox[RGB]{255,196,196}{\\strut not}\\colorbox[RGB]{255,255,255}{\\strut too}\\colorbox[RGB]{255,255,255}{\\strut many}\\colorbox[RGB]{255,255,255}{\\strut of}\\colorbox[RGB]{255,255,255}{\\strut those}\\colorbox[RGB]{255,255,255}{\\strut kinds}\\colorbox[RGB]{255,255,255}{\\strut of}\\colorbox[RGB]{255,255,255}{\\strut songs}\\colorbox[RGB]{255,255,255}{\\strut in}\\colorbox[RGB]{255,255,255}{\\strut my}\\colorbox[RGB]{255,255,255}{\\strut other}\\colorbox[RGB]{255,255,255}{\\strut video}\\colorbox[RGB]{255,255,255}{\\strut game}\\colorbox[RGB]{255,255,255}{\\strut soundtracks}\\colorbox[RGB]{255,255,255}{\\strut .}\\colorbox[RGB]{255,255,255}{\\strut I}\\colorbox[RGB]{255,254,254}{\\strut must}\\colorbox[RGB]{255,255,255}{\\strut admit}\\colorbox[RGB]{255,255,255}{\\strut that}\\colorbox[RGB]{255,255,255}{\\strut one}\\colorbox[RGB]{255,255,255}{\\strut of}\\colorbox[RGB]{255,255,255}{\\strut the}\\colorbox[RGB]{255,255,255}{\\strut songs}\\colorbox[RGB]{255,255,255}{\\strut (}\\colorbox[RGB]{255,227,227}{\\strut Life}\\colorbox[RGB]{255,255,255}{\\strut -}\\colorbox[RGB]{255,233,233}{\\strut A}\\colorbox[RGB]{255,248,248}{\\strut Distant}\\colorbox[RGB]{255,197,197}{\\strut Promise}\\colorbox[RGB]{255,255,255}{\\strut )}\\colorbox[RGB]{255,255,255}{\\strut has}\\colorbox[RGB]{255,255,255}{\\strut brought}\\colorbox[RGB]{255,208,208}{\\strut tears}\\colorbox[RGB]{255,255,255}{\\strut to}\\colorbox[RGB]{255,255,255}{\\strut my}\\colorbox[RGB]{255,255,255}{\\strut eyes}\\colorbox[RGB]{255,255,255}{\\strut on}\\colorbox[RGB]{255,255,255}{\\strut many}\\colorbox[RGB]{255,253,253}{\\strut occasions}\\colorbox[RGB]{255,255,255}{\\strut .}\\colorbox[RGB]{255,241,241}{\\strut My}\\colorbox[RGB]{255,255,255}{\\strut one}\\colorbox[RGB]{255,241,241}{\\strut complaint}\\colorbox[RGB]{255,255,255}{\\strut about}\\colorbox[RGB]{255,255,255}{\\strut this}\\colorbox[RGB]{255,255,255}{\\strut soundtrack}\\colorbox[RGB]{255,255,255}{\\strut is}\\colorbox[RGB]{255,255,255}{\\strut that}\\colorbox[RGB]{255,255,255}{\\strut they}\\colorbox[RGB]{255,255,255}{\\strut use}\\colorbox[RGB]{255,242,242}{\\strut guitar}\\colorbox[RGB]{255,244,244}{\\strut fretting}\\colorbox[RGB]{255,253,253}{\\strut effects}\\colorbox[RGB]{255,255,255}{\\strut in}\\colorbox[RGB]{255,255,255}{\\strut many}\\colorbox[RGB]{255,255,255}{\\strut of}\\colorbox[RGB]{255,255,255}{\\strut the}\\colorbox[RGB]{255,255,255}{\\strut songs}\\colorbox[RGB]{255,255,255}{\\strut ,}\\colorbox[RGB]{255,255,255}{\\strut which}\\colorbox[RGB]{255,255,255}{\\strut I}\\colorbox[RGB]{255,255,255}{\\strut find}\\colorbox[RGB]{255,109,109}{\\strut distracting}\\colorbox[RGB]{255,255,255}{\\strut .}\\colorbox[RGB]{255,255,255}{\\strut But}\\colorbox[RGB]{255,255,255}{\\strut even}\\colorbox[RGB]{255,255,255}{\\strut if}\\colorbox[RGB]{255,255,255}{\\strut those}\\colorbox[RGB]{255,245,245}{\\strut were}\\colorbox[RGB]{255,255,255}{\\strut n't}\\colorbox[RGB]{255,254,254}{\\strut included}\\colorbox[RGB]{255,255,255}{\\strut I}\\colorbox[RGB]{255,255,255}{\\strut would}\\colorbox[RGB]{255,255,255}{\\strut still}\\colorbox[RGB]{255,255,255}{\\strut consider}\\colorbox[RGB]{255,255,255}{\\strut the}\\colorbox[RGB]{255,236,236}{\\strut collection}\\colorbox[RGB]{255,238,238}{\\strut worth}\\colorbox[RGB]{255,255,255}{\\strut it}\\colorbox[RGB]{255,255,255}{\\strut .}\\colorbox[RGB]{255,255,255}{\\strut <pad>}\\colorbox[RGB]{255,255,255}{\\strut <pad>}\\colorbox[RGB]{255,255,255}{\\strut <pad>}\\colorbox[RGB]{255,255,255}{\\strut <pad>}\\colorbox[RGB]{255,255,255}{\\strut <pad>}\\colorbox[RGB]{255,255,255}{\\strut <pad>}\\colorbox[RGB]{255,255,255}{\\strut <pad>}\\colorbox[RGB]{255,255,255}{\\strut <pad>}\\colorbox[RGB]{255,255,255}{\\strut <pad>}\\colorbox[RGB]{255,255,255}{\\strut <pad>}\\colorbox[RGB]{255,255,255}{\\strut <pad>}\\colorbox[RGB]{255,255,255}{\\strut <pad>}\\colorbox[RGB]{255,255,255}{\\strut <pad>}\\colorbox[RGB]{255,255,255}{\\strut <pad>}\\colorbox[RGB]{255,255,255}{\\strut <pad>}\\colorbox[RGB]{255,255,255}{\\strut <pad>}\\colorbox[RGB]{255,255,255}{\\strut <pad>}\\colorbox[RGB]{255,255,255}{\\strut <pad>}\\colorbox[RGB]{255,255,255}{\\strut <pad>}\\colorbox[RGB]{255,255,255}{\\strut <pad>}\\colorbox[RGB]{255,255,255}{\\strut <pad>}\\colorbox[RGB]{255,255,255}{\\strut <pad>}\\colorbox[RGB]{255,255,255}{\\strut <pad>}\\colorbox[RGB]{255,255,255}{\\strut <pad>}\\colorbox[RGB]{255,255,255}{\\strut <pad>}\\colorbox[RGB]{255,255,255}{\\strut <pad>}\\colorbox[RGB]{255,255,255}{\\strut <pad>}\\colorbox[RGB]{255,255,255}{\\strut <pad>}\\colorbox[RGB]{255,255,255}{\\strut <pad>}\\colorbox[RGB]{255,255,255}{\\strut <pad>}\\colorbox[RGB]{255,255,255}{\\strut <pad>}\\colorbox[RGB]{255,255,255}{\\strut <pad>}\\colorbox[RGB]{255,255,255}{\\strut <pad>}\\colorbox[RGB]{255,255,255}{\\strut <pad>}\\colorbox[RGB]{255,255,255}{\\strut <pad>}\\colorbox[RGB]{255,255,255}{\\strut <pad>}\\colorbox[RGB]{255,255,255}{\\strut <pad>}\\colorbox[RGB]{255,255,255}{\\strut <pad>}\\colorbox[RGB]{255,255,255}{\\strut <pad>}\\colorbox[RGB]{255,255,255}{\\strut <pad>}\\colorbox[RGB]{255,255,255}{\\strut <pad>}\\colorbox[RGB]{255,255,255}{\\strut <pad>}\\colorbox[RGB]{255,255,255}{\\strut <pad>}\\colorbox[RGB]{255,255,255}{\\strut <pad>}\\colorbox[RGB]{255,255,255}{\\strut <pad>}\\colorbox[RGB]{255,255,255}{\\strut <pad>}\\colorbox[RGB]{255,255,255}{\\strut <pad>}\\colorbox[RGB]{255,255,255}{\\strut <pad>}\\colorbox[RGB]{255,255,255}{\\strut <pad>}\\colorbox[RGB]{255,255,255}{\\strut <pad>}\\colorbox[RGB]{255,255,255}{\\strut <pad>}\\colorbox[RGB]{255,255,255}{\\strut <pad>}\\colorbox[RGB]{255,255,255}{\\strut <pad>}\\colorbox[RGB]{255,255,255}{\\strut <pad>}\\colorbox[RGB]{255,255,255}{\\strut <pad>}\\colorbox[RGB]{255,255,255}{\\strut <pad>}\\colorbox[RGB]{255,255,255}{\\strut <pad>}\\colorbox[RGB]{255,255,255}{\\strut <pad>}\\colorbox[RGB]{255,255,255}{\\strut <pad>}\\colorbox[RGB]{255,255,255}{\\strut <pad>}\\colorbox[RGB]{255,255,255}{\\strut <pad>}\\colorbox[RGB]{255,255,255}{\\strut <pad>}\\colorbox[RGB]{255,255,255}{\\strut <pad>}\\colorbox[RGB]{255,255,255}{\\strut <pad>}\\colorbox[RGB]{255,255,255}{\\strut <pad>}\\colorbox[RGB]{255,255,255}{\\strut <pad>}\\colorbox[RGB]{255,255,255}{\\strut <pad>}\\colorbox[RGB]{255,255,255}{\\strut <pad>}\\colorbox[RGB]{255,255,255}{\\strut <pad>}\\colorbox[RGB]{255,255,255}{\\strut <pad>}\\colorbox[RGB]{255,255,255}{\\strut <pad>}\\colorbox[RGB]{255,255,255}{\\strut <pad>}\\colorbox[RGB]{255,255,255}{\\strut <pad>}\\colorbox[RGB]{255,255,255}{\\strut <pad>}\\colorbox[RGB]{255,255,255}{\\strut <pad>}\\colorbox[RGB]{255,255,255}{\\strut <pad>}\\colorbox[RGB]{255,255,255}{\\strut <pad>}\\colorbox[RGB]{255,255,255}{\\strut <pad>}\\colorbox[RGB]{255,255,255}{\\strut <pad>}\\colorbox[RGB]{255,255,255}{\\strut <pad>}\\colorbox[RGB]{255,255,255}{\\strut <pad>}\n"
     ]
    }
   ],
   "source": [
    "corpus_to_latex_file((test_indices, encoder_vocab, scores), 0, 'output.tex', True)"
   ]
  },
  {
   "cell_type": "code",
   "execution_count": null,
   "metadata": {},
   "outputs": [],
   "source": []
  }
 ],
 "metadata": {
  "kernelspec": {
   "display_name": "Python 3",
   "language": "python",
   "name": "python3"
  },
  "language_info": {
   "codemirror_mode": {
    "name": "ipython",
    "version": 3
   },
   "file_extension": ".py",
   "mimetype": "text/x-python",
   "name": "python",
   "nbconvert_exporter": "python",
   "pygments_lexer": "ipython3",
   "version": "3.6.1"
  }
 },
 "nbformat": 4,
 "nbformat_minor": 2
}
